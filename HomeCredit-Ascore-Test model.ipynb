{
 "cells": [
  {
   "cell_type": "code",
   "execution_count": 1,
   "metadata": {},
   "outputs": [],
   "source": [
    "import pandas as pd\n",
    "import joblib"
   ]
  },
  {
   "cell_type": "code",
   "execution_count": 2,
   "metadata": {},
   "outputs": [],
   "source": [
    "# Load model\n",
    "gbm_pickle = joblib.load(r'D:\\HUST\\Project 3\\lightgbm_final.p')"
   ]
  },
  {
   "cell_type": "code",
   "execution_count": 3,
   "metadata": {},
   "outputs": [
    {
     "data": {
      "text/plain": [
       "LGBMClassifier(colsample_bytree=0.613, learning_rate=0.01, max_bin=407,\n",
       "               max_depth=11, min_child_samples=165, min_child_weight=6,\n",
       "               n_estimators=4000, num_leaves=58, reg_alpha=3.564,\n",
       "               reg_lambda=4.93, silent=-1, subsample=0.708, verbose=-1)"
      ]
     },
     "execution_count": 3,
     "metadata": {},
     "output_type": "execute_result"
    }
   ],
   "source": [
    "gbm_pickle"
   ]
  },
  {
   "cell_type": "code",
   "execution_count": 8,
   "metadata": {},
   "outputs": [],
   "source": [
    "# Load data\n",
    "Z_TEST = pd.read_excel(r'D:\\HUST\\Project 3\\Testing data\\Testing_Data.xlsx', sheet_name='Z')"
   ]
  },
  {
   "cell_type": "code",
   "execution_count": 9,
   "metadata": {},
   "outputs": [],
   "source": [
    "best_iteration = 2146\n",
    "Y_TEST_PREDICT = gbm_pickle.predict_proba(Z_TEST, num_iteration=best_iteration)[:, 1]"
   ]
  },
  {
   "cell_type": "code",
   "execution_count": 13,
   "metadata": {},
   "outputs": [
    {
     "data": {
      "text/plain": [
       "array([280.64940273,  48.32621218,  70.25921416, ...,  40.85759773,\n",
       "       118.10079725,  21.08675369])"
      ]
     },
     "execution_count": 13,
     "metadata": {},
     "output_type": "execute_result"
    }
   ],
   "source": [
    "Y_TEST_PREDICT*1000"
   ]
  }
 ],
 "metadata": {
  "kernelspec": {
   "display_name": "Python 3",
   "language": "python",
   "name": "python3"
  },
  "language_info": {
   "codemirror_mode": {
    "name": "ipython",
    "version": 3
   },
   "file_extension": ".py",
   "mimetype": "text/x-python",
   "name": "python",
   "nbconvert_exporter": "python",
   "pygments_lexer": "ipython3",
   "version": "3.8.5"
  }
 },
 "nbformat": 4,
 "nbformat_minor": 4
}
